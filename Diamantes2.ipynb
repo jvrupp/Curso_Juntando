{
  "nbformat": 4,
  "nbformat_minor": 0,
  "metadata": {
    "colab": {
      "name": "Diamantes2.ipynb",
      "provenance": [],
      "authorship_tag": "ABX9TyOCrzJikc+H+no0DiXyiH/i",
      "include_colab_link": true
    },
    "kernelspec": {
      "name": "python3",
      "display_name": "Python 3"
    },
    "language_info": {
      "name": "python"
    }
  },
  "cells": [
    {
      "cell_type": "markdown",
      "metadata": {
        "id": "view-in-github",
        "colab_type": "text"
      },
      "source": [
        "<a href=\"https://colab.research.google.com/github/jvrupp/Curso_UESC_Pandas_2022/blob/main/Diamantes2.ipynb\" target=\"_parent\"><img src=\"https://colab.research.google.com/assets/colab-badge.svg\" alt=\"Open In Colab\"/></a>"
      ]
    },
    {
      "cell_type": "markdown",
      "source": [
        "Versao do execicio dos diamantes de forma mais simples e direta."
      ],
      "metadata": {
        "id": "0yYlLwmHkI0W"
      }
    },
    {
      "cell_type": "code",
      "execution_count": 5,
      "metadata": {
        "colab": {
          "base_uri": "https://localhost:8080/"
        },
        "id": "6eb-cpWDjLLH",
        "outputId": "5c424439-4e1b-4d7b-86b4-1843cbb9f5ac"
      },
      "outputs": [
        {
          "output_type": "stream",
          "name": "stdout",
          "text": [
            "Drive already mounted at /content/gdrive; to attempt to forcibly remount, call drive.mount(\"/content/gdrive\", force_remount=True).\n"
          ]
        }
      ],
      "source": [
        "import pandas as pd\n",
        "import matplotlib.pyplot as plt\n",
        "import seaborn as sns\n",
        "import numpy as np\n",
        "from sklearn.metrics import r2_score\n",
        "from sklearn.preprocessing import StandardScaler\n",
        "from sklearn.cluster import KMeans\n",
        "from sklearn.model_selection import train_test_split\n",
        "from sklearn.ensemble import RandomForestRegressor\n",
        "from sklearn.ensemble import RandomForestClassifier\n",
        "from sklearn.metrics import classification_report\n",
        "from google.colab import drive\n",
        "drive.mount('/content/gdrive')"
      ]
    },
    {
      "cell_type": "code",
      "source": [
        "diamonds= pd.read_csv('/content/gdrive/MyDrive/diamonds.csv')\n",
        "##################################tratando as variaveis categoricas\n",
        "cat_cut=['Fair', 'Good', 'Very Good', 'Premium', 'Ideal']\n",
        "cat_color=['D','E','F','G','H','I','J']\n",
        "cat_clarity='I1,SI2,SI1,VS2,VS1,VVS2,VVS1,IF'.split(',')\n",
        "diamonds.drop(columns=['Unnamed: 0'],inplace=True)\n",
        "diamonds['color']=diamonds['color'].replace(cat_color,[0,1,2,3,4,5,6])\n",
        "diamonds['cut']=diamonds['cut'].replace(cat_cut,[0,1,2,3,4])\n",
        "diamonds['clarity']=diamonds['clarity'].replace(cat_clarity,[0,1,2,3,4,5,6,7])\n",
        "\n",
        "preco = diamonds['price']\n",
        "diamonds.drop(columns=['price'],inplace=True)\n",
        "diamonds2=diamonds.copy()#copia\n",
        "\n",
        "\n",
        "\n"
      ],
      "metadata": {
        "id": "iIJ_Y6xpjSJI"
      },
      "execution_count": 6,
      "outputs": []
    },
    {
      "cell_type": "code",
      "source": [
        "for i in range(0,9):\n",
        "    scaler=StandardScaler()\n",
        "    diamonds.iloc[:,[i]]=scaler.fit_transform(diamonds.iloc[:,[i]])"
      ],
      "metadata": {
        "id": "Q6ZEmXHrjzw2"
      },
      "execution_count": 7,
      "outputs": []
    },
    {
      "cell_type": "code",
      "source": [
        "kmeans=KMeans(n_clusters=5)\n",
        "kmeans.fit(diamonds.iloc[:,[0,-1]])\n",
        "\n",
        "\n",
        "diamonds2['grupos']=np.array(pd.Series(kmeans.labels_))\n",
        "diamonds['grupos']=np.array(pd.Series(kmeans.labels_))"
      ],
      "metadata": {
        "id": "cbiQYC-sj1FO"
      },
      "execution_count": 8,
      "outputs": []
    },
    {
      "cell_type": "code",
      "source": [
        "X_train,X_test,Y_train,Y_test=train_test_split(diamonds2,preco,test_size=0.10,random_state=0)"
      ],
      "metadata": {
        "id": "D7dWOGbvj239"
      },
      "execution_count": 9,
      "outputs": []
    },
    {
      "cell_type": "code",
      "source": [
        "regr = RandomForestRegressor(n_estimators=100, random_state=0)\n",
        "regr.fit(X_train, Y_train)\n",
        "pred=regr.predict(X_test)\n",
        "r2_score(Y_test,pred)"
      ],
      "metadata": {
        "colab": {
          "base_uri": "https://localhost:8080/"
        },
        "id": "ufbEYrthj4FN",
        "outputId": "84cb25a8-73da-42f9-82bf-c07c4f92a254"
      },
      "execution_count": 10,
      "outputs": [
        {
          "output_type": "execute_result",
          "data": {
            "text/plain": [
              "0.9823125513501234"
            ]
          },
          "metadata": {},
          "execution_count": 10
        }
      ]
    },
    {
      "cell_type": "code",
      "source": [
        "diferencas = pd.DataFrame(abs(pred - Y_test))\n",
        "\n",
        "diferencas['ones']=1\n",
        "\n",
        "ImpReg=pd.DataFrame({'importanciaReg':regr.feature_importances_,'variaveis':X_train.columns})"
      ],
      "metadata": {
        "id": "6J38vnUoj5f1"
      },
      "execution_count": 11,
      "outputs": []
    },
    {
      "cell_type": "code",
      "source": [
        "###########################################\n",
        "k3=KMeans(n_clusters=3)\n",
        "k3.fit(diferencas)\n",
        "classes_k3=k3.labels_\n",
        "diferencas['gp_diff']=classes_k3"
      ],
      "metadata": {
        "id": "BFHK4cP1j62R"
      },
      "execution_count": 12,
      "outputs": []
    },
    {
      "cell_type": "code",
      "source": [
        "def JuntaRuins(qts,diferencas):\n",
        "  means=[]\n",
        "  min_index = qts.idxmin()\n",
        "  Error_Data_Set = diferencas[diferencas['gp_diff']!=min_index]\n",
        "  Not_Error_Data_Set = diferencas[diferencas['gp_diff']==min_index]\n",
        "  return (Error_Data_Set,Not_Error_Data_Set)\n",
        "\n"
      ],
      "metadata": {
        "id": "nppMhJXdj9it"
      },
      "execution_count": 13,
      "outputs": []
    },
    {
      "cell_type": "code",
      "source": [
        "bad_data,not_bad_data=JuntaRuins(diferencas.groupby(['gp_diff']).mean()['price'],diferencas)\n",
        "bad_data=bad_data.rename(columns={'price':'diff'})\n",
        "not_bad_data=not_bad_data.rename(columns={'price':'diff'})\n",
        "\n",
        "\n",
        "Total_Data=pd.concat([bad_data, not_bad_data], axis=0) # 0 row 1 columns\n",
        "\n",
        "\n",
        "Total_Data=X_test.merge(Total_Data,right_index=True,left_index=True,how='outer').drop(columns=['ones'])\n",
        "Total_Data['gp_diff']=Total_Data['gp_diff'].replace([0,1,2],[0,1,1])\n",
        "\n",
        "Total_Data['carat/vol']=Total_Data['x']*Total_Data['y']*Total_Data['z']\n",
        "X_class_erros=Total_Data.iloc[:,0:-3]\n",
        "X_class_erros['carat/vol']=Total_Data.iloc[:,-1]\n",
        "Y_class_erros=Total_Data.iloc[:,-2]\n",
        "\n",
        "\n",
        "\n",
        "X_train2,X_test2,Y_train2,Y_test2=train_test_split(X_class_erros,Y_class_erros,test_size=0.20,random_state=0)\n",
        "\n",
        "\n",
        "\n",
        "regr = RandomForestClassifier(n_estimators=200, random_state=0)\n",
        "regr.fit(X_train2, Y_train2)\n",
        "pred2=regr.predict(X_test2)\n",
        "\n",
        "\n",
        "print(classification_report(Y_test2,pred2))\n"
      ],
      "metadata": {
        "id": "P3uHB4E5jYFw",
        "colab": {
          "base_uri": "https://localhost:8080/"
        },
        "outputId": "5ccc7907-7f5a-48b0-af04-8e7832f62ac6"
      },
      "execution_count": 14,
      "outputs": [
        {
          "output_type": "stream",
          "name": "stdout",
          "text": [
            "              precision    recall  f1-score   support\n",
            "\n",
            "           0       0.90      0.95      0.92       924\n",
            "           1       0.56      0.37      0.45       155\n",
            "\n",
            "    accuracy                           0.87      1079\n",
            "   macro avg       0.73      0.66      0.69      1079\n",
            "weighted avg       0.85      0.87      0.86      1079\n",
            "\n"
          ]
        }
      ]
    },
    {
      "cell_type": "code",
      "source": [
        ""
      ],
      "metadata": {
        "id": "Z_96xicekBNT"
      },
      "execution_count": null,
      "outputs": []
    }
  ]
}